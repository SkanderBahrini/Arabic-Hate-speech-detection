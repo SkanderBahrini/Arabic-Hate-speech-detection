{
  "cells": [
    {
      "cell_type": "code",
      "execution_count": null,
      "metadata": {
        "colab": {
          "base_uri": "https://localhost:8080/"
        },
        "id": "BMFNvm4g7zkU",
        "outputId": "631c8cae-182b-4dfa-875e-f94fe7d433b6"
      },
      "outputs": [
        {
          "output_type": "stream",
          "name": "stdout",
          "text": [
            "Looking in indexes: https://pypi.org/simple, https://us-python.pkg.dev/colab-wheels/public/simple/\n",
            "Requirement already satisfied: gensim in /usr/local/lib/python3.8/dist-packages (3.6.0)\n",
            "Collecting gensim\n",
            "  Downloading gensim-4.2.0-cp38-cp38-manylinux_2_12_x86_64.manylinux2010_x86_64.whl (24.1 MB)\n",
            "\u001b[K     |████████████████████████████████| 24.1 MB 6.4 MB/s \n",
            "\u001b[?25hRequirement already satisfied: smart-open>=1.8.1 in /usr/local/lib/python3.8/dist-packages (from gensim) (5.2.1)\n",
            "Requirement already satisfied: scipy>=0.18.1 in /usr/local/lib/python3.8/dist-packages (from gensim) (1.7.3)\n",
            "Requirement already satisfied: numpy>=1.17.0 in /usr/local/lib/python3.8/dist-packages (from gensim) (1.21.6)\n",
            "Installing collected packages: gensim\n",
            "  Attempting uninstall: gensim\n",
            "    Found existing installation: gensim 3.6.0\n",
            "    Uninstalling gensim-3.6.0:\n",
            "      Successfully uninstalled gensim-3.6.0\n",
            "Successfully installed gensim-4.2.0\n"
          ]
        }
      ],
      "source": [
        "pip install --upgrade gensim"
      ]
    },
    {
      "cell_type": "code",
      "execution_count": null,
      "metadata": {
        "id": "tVMsRC_SpQJk"
      },
      "outputs": [],
      "source": [
        "import tensorflow as tf\n",
        "import numpy as np\n",
        "from keras.preprocessing.text import Tokenizer\n",
        "from keras_preprocessing.sequence import pad_sequences\n",
        "import pandas as pd\n",
        "from numpy import array\n",
        "import gensim\n",
        "from gensim.models import KeyedVectors\n",
        "from gensim.models import word2vec\n",
        "import seaborn as sns\n",
        "from sklearn.utils import shuffle\n"
      ]
    },
    {
      "cell_type": "code",
      "execution_count": null,
      "metadata": {
        "colab": {
          "base_uri": "https://localhost:8080/",
          "height": 206
        },
        "id": "2gdxyXospUpx",
        "outputId": "7db086f4-312c-4574-f3c9-0f96d605860d"
      },
      "outputs": [
        {
          "output_type": "execute_result",
          "data": {
            "text/plain": [
              "                                                Text  Nature\n",
              "0  اسغي ياشعب تونس تدعوا بالاسلام كفار الحمدلله ن...    hate\n",
              "1  قطع يد السارق توفرت الشروط شرط الحد الأدنى قيم...  normal\n",
              "2                             تلوموش لطفي لعبدلي شرف  normal\n",
              "3  مستغرب شعب يسمع تفاهة شانو لى الدرجة الشعب تاف...  normal\n",
              "4  هههخ غزلتني مافهمتش شمدخلها الموضوع تتنطر وحده...  normal"
            ],
            "text/html": [
              "\n",
              "  <div id=\"df-5d0d1ff4-3243-42f6-8205-3d14c2e9c34c\">\n",
              "    <div class=\"colab-df-container\">\n",
              "      <div>\n",
              "<style scoped>\n",
              "    .dataframe tbody tr th:only-of-type {\n",
              "        vertical-align: middle;\n",
              "    }\n",
              "\n",
              "    .dataframe tbody tr th {\n",
              "        vertical-align: top;\n",
              "    }\n",
              "\n",
              "    .dataframe thead th {\n",
              "        text-align: right;\n",
              "    }\n",
              "</style>\n",
              "<table border=\"1\" class=\"dataframe\">\n",
              "  <thead>\n",
              "    <tr style=\"text-align: right;\">\n",
              "      <th></th>\n",
              "      <th>Text</th>\n",
              "      <th>Nature</th>\n",
              "    </tr>\n",
              "  </thead>\n",
              "  <tbody>\n",
              "    <tr>\n",
              "      <th>0</th>\n",
              "      <td>اسغي ياشعب تونس تدعوا بالاسلام كفار الحمدلله ن...</td>\n",
              "      <td>hate</td>\n",
              "    </tr>\n",
              "    <tr>\n",
              "      <th>1</th>\n",
              "      <td>قطع يد السارق توفرت الشروط شرط الحد الأدنى قيم...</td>\n",
              "      <td>normal</td>\n",
              "    </tr>\n",
              "    <tr>\n",
              "      <th>2</th>\n",
              "      <td>تلوموش لطفي لعبدلي شرف</td>\n",
              "      <td>normal</td>\n",
              "    </tr>\n",
              "    <tr>\n",
              "      <th>3</th>\n",
              "      <td>مستغرب شعب يسمع تفاهة شانو لى الدرجة الشعب تاف...</td>\n",
              "      <td>normal</td>\n",
              "    </tr>\n",
              "    <tr>\n",
              "      <th>4</th>\n",
              "      <td>هههخ غزلتني مافهمتش شمدخلها الموضوع تتنطر وحده...</td>\n",
              "      <td>normal</td>\n",
              "    </tr>\n",
              "  </tbody>\n",
              "</table>\n",
              "</div>\n",
              "      <button class=\"colab-df-convert\" onclick=\"convertToInteractive('df-5d0d1ff4-3243-42f6-8205-3d14c2e9c34c')\"\n",
              "              title=\"Convert this dataframe to an interactive table.\"\n",
              "              style=\"display:none;\">\n",
              "        \n",
              "  <svg xmlns=\"http://www.w3.org/2000/svg\" height=\"24px\"viewBox=\"0 0 24 24\"\n",
              "       width=\"24px\">\n",
              "    <path d=\"M0 0h24v24H0V0z\" fill=\"none\"/>\n",
              "    <path d=\"M18.56 5.44l.94 2.06.94-2.06 2.06-.94-2.06-.94-.94-2.06-.94 2.06-2.06.94zm-11 1L8.5 8.5l.94-2.06 2.06-.94-2.06-.94L8.5 2.5l-.94 2.06-2.06.94zm10 10l.94 2.06.94-2.06 2.06-.94-2.06-.94-.94-2.06-.94 2.06-2.06.94z\"/><path d=\"M17.41 7.96l-1.37-1.37c-.4-.4-.92-.59-1.43-.59-.52 0-1.04.2-1.43.59L10.3 9.45l-7.72 7.72c-.78.78-.78 2.05 0 2.83L4 21.41c.39.39.9.59 1.41.59.51 0 1.02-.2 1.41-.59l7.78-7.78 2.81-2.81c.8-.78.8-2.07 0-2.86zM5.41 20L4 18.59l7.72-7.72 1.47 1.35L5.41 20z\"/>\n",
              "  </svg>\n",
              "      </button>\n",
              "      \n",
              "  <style>\n",
              "    .colab-df-container {\n",
              "      display:flex;\n",
              "      flex-wrap:wrap;\n",
              "      gap: 12px;\n",
              "    }\n",
              "\n",
              "    .colab-df-convert {\n",
              "      background-color: #E8F0FE;\n",
              "      border: none;\n",
              "      border-radius: 50%;\n",
              "      cursor: pointer;\n",
              "      display: none;\n",
              "      fill: #1967D2;\n",
              "      height: 32px;\n",
              "      padding: 0 0 0 0;\n",
              "      width: 32px;\n",
              "    }\n",
              "\n",
              "    .colab-df-convert:hover {\n",
              "      background-color: #E2EBFA;\n",
              "      box-shadow: 0px 1px 2px rgba(60, 64, 67, 0.3), 0px 1px 3px 1px rgba(60, 64, 67, 0.15);\n",
              "      fill: #174EA6;\n",
              "    }\n",
              "\n",
              "    [theme=dark] .colab-df-convert {\n",
              "      background-color: #3B4455;\n",
              "      fill: #D2E3FC;\n",
              "    }\n",
              "\n",
              "    [theme=dark] .colab-df-convert:hover {\n",
              "      background-color: #434B5C;\n",
              "      box-shadow: 0px 1px 3px 1px rgba(0, 0, 0, 0.15);\n",
              "      filter: drop-shadow(0px 1px 2px rgba(0, 0, 0, 0.3));\n",
              "      fill: #FFFFFF;\n",
              "    }\n",
              "  </style>\n",
              "\n",
              "      <script>\n",
              "        const buttonEl =\n",
              "          document.querySelector('#df-5d0d1ff4-3243-42f6-8205-3d14c2e9c34c button.colab-df-convert');\n",
              "        buttonEl.style.display =\n",
              "          google.colab.kernel.accessAllowed ? 'block' : 'none';\n",
              "\n",
              "        async function convertToInteractive(key) {\n",
              "          const element = document.querySelector('#df-5d0d1ff4-3243-42f6-8205-3d14c2e9c34c');\n",
              "          const dataTable =\n",
              "            await google.colab.kernel.invokeFunction('convertToInteractive',\n",
              "                                                     [key], {});\n",
              "          if (!dataTable) return;\n",
              "\n",
              "          const docLinkHtml = 'Like what you see? Visit the ' +\n",
              "            '<a target=\"_blank\" href=https://colab.research.google.com/notebooks/data_table.ipynb>data table notebook</a>'\n",
              "            + ' to learn more about interactive tables.';\n",
              "          element.innerHTML = '';\n",
              "          dataTable['output_type'] = 'display_data';\n",
              "          await google.colab.output.renderOutput(dataTable, element);\n",
              "          const docLink = document.createElement('div');\n",
              "          docLink.innerHTML = docLinkHtml;\n",
              "          element.appendChild(docLink);\n",
              "        }\n",
              "      </script>\n",
              "    </div>\n",
              "  </div>\n",
              "  "
            ]
          },
          "metadata": {},
          "execution_count": 4
        }
      ],
      "source": [
        "df = pd.read_excel('/content/T-HSAB.xlsx')\n",
        "df.head()\n"
      ]
    },
    {
      "cell_type": "code",
      "execution_count": null,
      "metadata": {
        "colab": {
          "base_uri": "https://localhost:8080/",
          "height": 206
        },
        "id": "fTthkpqAwuwh",
        "outputId": "333a0b0c-15d4-43b4-e85a-11aafb6fafd0"
      },
      "outputs": [
        {
          "output_type": "execute_result",
          "data": {
            "text/plain": [
              "                                                Text  Nature  Label\n",
              "0  اسغي ياشعب تونس تدعوا بالاسلام كفار الحمدلله ن...    hate      0\n",
              "1  قطع يد السارق توفرت الشروط شرط الحد الأدنى قيم...  normal      1\n",
              "2                             تلوموش لطفي لعبدلي شرف  normal      1\n",
              "3  مستغرب شعب يسمع تفاهة شانو لى الدرجة الشعب تاف...  normal      1\n",
              "4  هههخ غزلتني مافهمتش شمدخلها الموضوع تتنطر وحده...  normal      1"
            ],
            "text/html": [
              "\n",
              "  <div id=\"df-aee06bc6-817e-494e-838a-d5c8c6885c7e\">\n",
              "    <div class=\"colab-df-container\">\n",
              "      <div>\n",
              "<style scoped>\n",
              "    .dataframe tbody tr th:only-of-type {\n",
              "        vertical-align: middle;\n",
              "    }\n",
              "\n",
              "    .dataframe tbody tr th {\n",
              "        vertical-align: top;\n",
              "    }\n",
              "\n",
              "    .dataframe thead th {\n",
              "        text-align: right;\n",
              "    }\n",
              "</style>\n",
              "<table border=\"1\" class=\"dataframe\">\n",
              "  <thead>\n",
              "    <tr style=\"text-align: right;\">\n",
              "      <th></th>\n",
              "      <th>Text</th>\n",
              "      <th>Nature</th>\n",
              "      <th>Label</th>\n",
              "    </tr>\n",
              "  </thead>\n",
              "  <tbody>\n",
              "    <tr>\n",
              "      <th>0</th>\n",
              "      <td>اسغي ياشعب تونس تدعوا بالاسلام كفار الحمدلله ن...</td>\n",
              "      <td>hate</td>\n",
              "      <td>0</td>\n",
              "    </tr>\n",
              "    <tr>\n",
              "      <th>1</th>\n",
              "      <td>قطع يد السارق توفرت الشروط شرط الحد الأدنى قيم...</td>\n",
              "      <td>normal</td>\n",
              "      <td>1</td>\n",
              "    </tr>\n",
              "    <tr>\n",
              "      <th>2</th>\n",
              "      <td>تلوموش لطفي لعبدلي شرف</td>\n",
              "      <td>normal</td>\n",
              "      <td>1</td>\n",
              "    </tr>\n",
              "    <tr>\n",
              "      <th>3</th>\n",
              "      <td>مستغرب شعب يسمع تفاهة شانو لى الدرجة الشعب تاف...</td>\n",
              "      <td>normal</td>\n",
              "      <td>1</td>\n",
              "    </tr>\n",
              "    <tr>\n",
              "      <th>4</th>\n",
              "      <td>هههخ غزلتني مافهمتش شمدخلها الموضوع تتنطر وحده...</td>\n",
              "      <td>normal</td>\n",
              "      <td>1</td>\n",
              "    </tr>\n",
              "  </tbody>\n",
              "</table>\n",
              "</div>\n",
              "      <button class=\"colab-df-convert\" onclick=\"convertToInteractive('df-aee06bc6-817e-494e-838a-d5c8c6885c7e')\"\n",
              "              title=\"Convert this dataframe to an interactive table.\"\n",
              "              style=\"display:none;\">\n",
              "        \n",
              "  <svg xmlns=\"http://www.w3.org/2000/svg\" height=\"24px\"viewBox=\"0 0 24 24\"\n",
              "       width=\"24px\">\n",
              "    <path d=\"M0 0h24v24H0V0z\" fill=\"none\"/>\n",
              "    <path d=\"M18.56 5.44l.94 2.06.94-2.06 2.06-.94-2.06-.94-.94-2.06-.94 2.06-2.06.94zm-11 1L8.5 8.5l.94-2.06 2.06-.94-2.06-.94L8.5 2.5l-.94 2.06-2.06.94zm10 10l.94 2.06.94-2.06 2.06-.94-2.06-.94-.94-2.06-.94 2.06-2.06.94z\"/><path d=\"M17.41 7.96l-1.37-1.37c-.4-.4-.92-.59-1.43-.59-.52 0-1.04.2-1.43.59L10.3 9.45l-7.72 7.72c-.78.78-.78 2.05 0 2.83L4 21.41c.39.39.9.59 1.41.59.51 0 1.02-.2 1.41-.59l7.78-7.78 2.81-2.81c.8-.78.8-2.07 0-2.86zM5.41 20L4 18.59l7.72-7.72 1.47 1.35L5.41 20z\"/>\n",
              "  </svg>\n",
              "      </button>\n",
              "      \n",
              "  <style>\n",
              "    .colab-df-container {\n",
              "      display:flex;\n",
              "      flex-wrap:wrap;\n",
              "      gap: 12px;\n",
              "    }\n",
              "\n",
              "    .colab-df-convert {\n",
              "      background-color: #E8F0FE;\n",
              "      border: none;\n",
              "      border-radius: 50%;\n",
              "      cursor: pointer;\n",
              "      display: none;\n",
              "      fill: #1967D2;\n",
              "      height: 32px;\n",
              "      padding: 0 0 0 0;\n",
              "      width: 32px;\n",
              "    }\n",
              "\n",
              "    .colab-df-convert:hover {\n",
              "      background-color: #E2EBFA;\n",
              "      box-shadow: 0px 1px 2px rgba(60, 64, 67, 0.3), 0px 1px 3px 1px rgba(60, 64, 67, 0.15);\n",
              "      fill: #174EA6;\n",
              "    }\n",
              "\n",
              "    [theme=dark] .colab-df-convert {\n",
              "      background-color: #3B4455;\n",
              "      fill: #D2E3FC;\n",
              "    }\n",
              "\n",
              "    [theme=dark] .colab-df-convert:hover {\n",
              "      background-color: #434B5C;\n",
              "      box-shadow: 0px 1px 3px 1px rgba(0, 0, 0, 0.15);\n",
              "      filter: drop-shadow(0px 1px 2px rgba(0, 0, 0, 0.3));\n",
              "      fill: #FFFFFF;\n",
              "    }\n",
              "  </style>\n",
              "\n",
              "      <script>\n",
              "        const buttonEl =\n",
              "          document.querySelector('#df-aee06bc6-817e-494e-838a-d5c8c6885c7e button.colab-df-convert');\n",
              "        buttonEl.style.display =\n",
              "          google.colab.kernel.accessAllowed ? 'block' : 'none';\n",
              "\n",
              "        async function convertToInteractive(key) {\n",
              "          const element = document.querySelector('#df-aee06bc6-817e-494e-838a-d5c8c6885c7e');\n",
              "          const dataTable =\n",
              "            await google.colab.kernel.invokeFunction('convertToInteractive',\n",
              "                                                     [key], {});\n",
              "          if (!dataTable) return;\n",
              "\n",
              "          const docLinkHtml = 'Like what you see? Visit the ' +\n",
              "            '<a target=\"_blank\" href=https://colab.research.google.com/notebooks/data_table.ipynb>data table notebook</a>'\n",
              "            + ' to learn more about interactive tables.';\n",
              "          element.innerHTML = '';\n",
              "          dataTable['output_type'] = 'display_data';\n",
              "          await google.colab.output.renderOutput(dataTable, element);\n",
              "          const docLink = document.createElement('div');\n",
              "          docLink.innerHTML = docLinkHtml;\n",
              "          element.appendChild(docLink);\n",
              "        }\n",
              "      </script>\n",
              "    </div>\n",
              "  </div>\n",
              "  "
            ]
          },
          "metadata": {},
          "execution_count": 5
        }
      ],
      "source": [
        "# Define a function to map the values\n",
        "def set_value(row_number, assigned_value):\n",
        "    return assigned_value[row_number]\n",
        "\n",
        "# Create the dictionary\n",
        "event_dictionary ={'normal' : 1, 'hate' : 0, 'abusive' : 0}\n",
        "\n",
        "# Add a new column named 'Price'\n",
        "df['Label'] = df['Nature'].apply(set_value, args =(event_dictionary, ))\n",
        "\n",
        "# Print the DataFrame\n",
        "df.head()"
      ]
    },
    {
      "cell_type": "code",
      "execution_count": null,
      "metadata": {
        "colab": {
          "base_uri": "https://localhost:8080/"
        },
        "id": "KHbXJ33FRFe9",
        "outputId": "9b39870d-23eb-4266-9746-d6791e48417d"
      },
      "outputs": [
        {
          "output_type": "stream",
          "name": "stdout",
          "text": [
            "6024\n"
          ]
        }
      ],
      "source": [
        "print(len(df))"
      ]
    },
    {
      "cell_type": "code",
      "execution_count": null,
      "metadata": {
        "colab": {
          "base_uri": "https://localhost:8080/"
        },
        "id": "337QBfxqkqyj",
        "outputId": "2abf8e9a-58b1-4382-aba9-a0ae0f1f4e81"
      },
      "outputs": [
        {
          "name": "stdout",
          "output_type": "stream",
          "text": [
            "Looking in indexes: https://pypi.org/simple, https://us-python.pkg.dev/colab-wheels/public/simple/\n",
            "Requirement already satisfied: arabic-reshaper in /usr/local/lib/python3.8/dist-packages (2.1.4)\n",
            "Requirement already satisfied: future in /usr/local/lib/python3.8/dist-packages (from arabic-reshaper) (0.16.0)\n"
          ]
        }
      ],
      "source": [
        "pip install arabic-reshaper"
      ]
    },
    {
      "cell_type": "code",
      "execution_count": null,
      "metadata": {
        "colab": {
          "base_uri": "https://localhost:8080/"
        },
        "id": "sCsuJkGHk9k0",
        "outputId": "375aa881-b355-455a-a254-7d0fffd0405d"
      },
      "outputs": [
        {
          "name": "stdout",
          "output_type": "stream",
          "text": [
            "Looking in indexes: https://pypi.org/simple, https://us-python.pkg.dev/colab-wheels/public/simple/\n",
            "Requirement already satisfied: python-bidi in /usr/local/lib/python3.8/dist-packages (0.4.2)\n",
            "Requirement already satisfied: six in /usr/local/lib/python3.8/dist-packages (from python-bidi) (1.15.0)\n"
          ]
        }
      ],
      "source": [
        "pip install python-bidi"
      ]
    },
    {
      "cell_type": "code",
      "execution_count": null,
      "metadata": {
        "id": "Q0NmU0ukkU08",
        "colab": {
          "base_uri": "https://localhost:8080/",
          "height": 373
        },
        "outputId": "61e649fa-1247-46d1-8371-d421abf7e03d"
      },
      "outputs": [
        {
          "output_type": "error",
          "ename": "ModuleNotFoundError",
          "evalue": "ignored",
          "traceback": [
            "\u001b[0;31m---------------------------------------------------------------------------\u001b[0m",
            "\u001b[0;31mModuleNotFoundError\u001b[0m                       Traceback (most recent call last)",
            "\u001b[0;32m<ipython-input-7-4c9757a3c2d8>\u001b[0m in \u001b[0;36m<module>\u001b[0;34m\u001b[0m\n\u001b[1;32m      3\u001b[0m \u001b[0;32mimport\u001b[0m \u001b[0mcodecs\u001b[0m\u001b[0;34m\u001b[0m\u001b[0;34m\u001b[0m\u001b[0m\n\u001b[1;32m      4\u001b[0m \u001b[0;32mfrom\u001b[0m \u001b[0mwordcloud\u001b[0m \u001b[0;32mimport\u001b[0m \u001b[0mWordCloud\u001b[0m\u001b[0;34m\u001b[0m\u001b[0;34m\u001b[0m\u001b[0m\n\u001b[0;32m----> 5\u001b[0;31m \u001b[0;32mimport\u001b[0m \u001b[0marabic_reshaper\u001b[0m\u001b[0;34m\u001b[0m\u001b[0;34m\u001b[0m\u001b[0m\n\u001b[0m\u001b[1;32m      6\u001b[0m \u001b[0;32mfrom\u001b[0m \u001b[0mbidi\u001b[0m\u001b[0;34m.\u001b[0m\u001b[0malgorithm\u001b[0m \u001b[0;32mimport\u001b[0m \u001b[0mget_display\u001b[0m\u001b[0;34m\u001b[0m\u001b[0;34m\u001b[0m\u001b[0m\n\u001b[1;32m      7\u001b[0m \u001b[0;34m\u001b[0m\u001b[0m\n",
            "\u001b[0;31mModuleNotFoundError\u001b[0m: No module named 'arabic_reshaper'",
            "",
            "\u001b[0;31m---------------------------------------------------------------------------\u001b[0;32m\nNOTE: If your import is failing due to a missing package, you can\nmanually install dependencies using either !pip or !apt.\n\nTo view examples of installing some common dependencies, click the\n\"Open Examples\" button below.\n\u001b[0;31m---------------------------------------------------------------------------\u001b[0m\n"
          ],
          "errorDetails": {
            "actions": [
              {
                "action": "open_url",
                "actionText": "Open Examples",
                "url": "/notebooks/snippets/importing_libraries.ipynb"
              }
            ]
          }
        }
      ],
      "source": [
        "from pandas.io import excel\n",
        "import os\n",
        "import codecs\n",
        "from wordcloud import WordCloud\n",
        "import arabic_reshaper\n",
        "from bidi.algorithm import get_display\n",
        "\n"
      ]
    },
    {
      "cell_type": "code",
      "execution_count": null,
      "metadata": {
        "colab": {
          "base_uri": "https://localhost:8080/",
          "height": 300
        },
        "id": "nTx3G4WeR1_5",
        "outputId": "f8d6619e-b374-408b-f8cd-01c75c7f2d28"
      },
      "outputs": [
        {
          "output_type": "execute_result",
          "data": {
            "text/plain": [
              "<matplotlib.axes._subplots.AxesSubplot at 0x7eff4e0e77f0>"
            ]
          },
          "metadata": {},
          "execution_count": 8
        },
        {
          "output_type": "display_data",
          "data": {
            "text/plain": [
              "<Figure size 432x288 with 1 Axes>"
            ],
            "image/png": "[encoded data removed]"
          },
          "metadata": {
            "needs_background": "light"
          }
        }
      ],
      "source": [
        "sns.countplot(x='Label', data=df)"
      ]
    },
    {
      "cell_type": "code",
      "execution_count": null,
      "metadata": {
        "colab": {
          "base_uri": "https://localhost:8080/",
          "height": 585
        },
        "id": "CgbFQ3Vu5nAW",
        "outputId": "69e716a4-5df8-45cf-8471-a40438a5c652"
      },
      "outputs": [
        {
          "data": {
            "image/png": "[encoded data removed]",
            "text/plain": [
              "<Figure size 806.4x576 with 2 Axes>"
            ]
          },
          "metadata": {},
          "output_type": "display_data"
        }
      ],
      "source": [
        "g = sns.catplot(x=\"Nature\", col=\"Label\",\n",
        "                data=df, kind=\"count\",\n",
        "                height=8, aspect=.7);"
      ]
    },
    {
      "cell_type": "markdown",
      "metadata": {
        "id": "FybycWWwT285"
      },
      "source": [
        "# Data Preparation"
      ]
    },
    {
      "cell_type": "code",
      "execution_count": null,
      "metadata": {
        "id": "KvX0FpbeT14P"
      },
      "outputs": [],
      "source": [
        "import string,re\n",
        "def remove_punct(text):\n",
        "    text  = \"\".join([char for char in text if char not in string.punctuation])\n",
        "    text = re.sub('[0-9]+', '', text)\n",
        "    text = re.sub('\\n', '', text)\n",
        "    text = re.sub('\\t', '', text)\n",
        "    text = re.sub('\\r', '', text)\n",
        "    return text"
      ]
    },
    {
      "cell_type": "code",
      "execution_count": null,
      "metadata": {
        "id": "9XjtJeyRUM4s"
      },
      "outputs": [],
      "source": [
        "#nahina arkam ou ponctuation\n",
        "df['Text'] = df['Text'].apply(lambda x: remove_punct(x))"
      ]
    },
    {
      "cell_type": "code",
      "execution_count": null,
      "metadata": {
        "colab": {
          "base_uri": "https://localhost:8080/"
        },
        "id": "BJMziaGMUUDZ",
        "outputId": "e6442d9f-8015-4f06-c5bd-8f9f4fe254fc"
      },
      "outputs": [
        {
          "output_type": "stream",
          "name": "stdout",
          "text": [
            "Looking in indexes: https://pypi.org/simple, https://us-python.pkg.dev/colab-wheels/public/simple/\n",
            "Collecting pyarabic\n",
            "  Downloading PyArabic-0.6.15-py3-none-any.whl (126 kB)\n",
            "\u001b[K     |████████████████████████████████| 126 kB 4.7 MB/s \n",
            "\u001b[?25hRequirement already satisfied: six>=1.14.0 in /usr/local/lib/python3.8/dist-packages (from pyarabic) (1.15.0)\n",
            "Installing collected packages: pyarabic\n",
            "Successfully installed pyarabic-0.6.15\n",
            "Looking in indexes: https://pypi.org/simple, https://us-python.pkg.dev/colab-wheels/public/simple/\n",
            "Collecting farasapy\n",
            "  Downloading farasapy-0.0.14-py3-none-any.whl (11 kB)\n",
            "Requirement already satisfied: requests in /usr/local/lib/python3.8/dist-packages (from farasapy) (2.23.0)\n",
            "Requirement already satisfied: tqdm in /usr/local/lib/python3.8/dist-packages (from farasapy) (4.64.1)\n",
            "Requirement already satisfied: certifi>=2017.4.17 in /usr/local/lib/python3.8/dist-packages (from requests->farasapy) (2022.9.24)\n",
            "Requirement already satisfied: idna<3,>=2.5 in /usr/local/lib/python3.8/dist-packages (from requests->farasapy) (2.10)\n",
            "Requirement already satisfied: chardet<4,>=3.0.2 in /usr/local/lib/python3.8/dist-packages (from requests->farasapy) (3.0.4)\n",
            "Requirement already satisfied: urllib3!=1.25.0,!=1.25.1,<1.26,>=1.21.1 in /usr/local/lib/python3.8/dist-packages (from requests->farasapy) (1.24.3)\n",
            "Installing collected packages: farasapy\n",
            "Successfully installed farasapy-0.0.14\n",
            "Looking in indexes: https://pypi.org/simple, https://us-python.pkg.dev/colab-wheels/public/simple/\n",
            "Collecting tashaphyne\n",
            "  Downloading Tashaphyne-0.3.6-py3-none-any.whl (251 kB)\n",
            "\u001b[K     |████████████████████████████████| 251 kB 4.6 MB/s \n",
            "\u001b[?25hRequirement already satisfied: pyarabic in /usr/local/lib/python3.8/dist-packages (from tashaphyne) (0.6.15)\n",
            "Requirement already satisfied: six>=1.14.0 in /usr/local/lib/python3.8/dist-packages (from pyarabic->tashaphyne) (1.15.0)\n",
            "Installing collected packages: tashaphyne\n",
            "Successfully installed tashaphyne-0.3.6\n"
          ]
        }
      ],
      "source": [
        "!pip install pyarabic\n",
        "!pip install farasapy\n",
        "!pip install tashaphyne"
      ]
    },
    {
      "cell_type": "markdown",
      "metadata": {
        "id": "3gr8bwgFWTel"
      },
      "source": [
        "# Normalized the words\n"
      ]
    },
    {
      "cell_type": "code",
      "execution_count": null,
      "metadata": {
        "id": "lxOBkacGV-VO"
      },
      "outputs": [],
      "source": [
        "import pyarabic.araby as araby\n",
        "def normalization(text):\n",
        "    text = re.sub(\"[إأٱآا]\", \"ا\", text)\n",
        "    text = re.sub(\"ى\", \"ي\", text)\n",
        "    text = re.sub(\"ؤ\", \"ء\", text)\n",
        "    text = re.sub(\"ئ\", \"ء\", text)\n",
        "    text = re.sub(\"ة\", \"ه\", text)\n",
        "    noise = re.compile(\"\"\" ّ    | # Tashdid\n",
        "                             َ    | # Fatha\n",
        "                             ً    | # Tanwin Fath\n",
        "                             ُ    | # Damma\n",
        "                             ٌ    | # Tanwin Damm\n",
        "                             ِ    | # Kasra\n",
        "                             ٍ    | # Tanwin Kasr\n",
        "                             ْ    | # Sukun\n",
        "                             ـ     # Tatwil/Kashida\n",
        "                         \"\"\", re.VERBOSE)\n",
        "    text = re.sub(noise, '', text)\n",
        "    text = re.sub(r'(.)\\1+', r\"\\1\\1\", text) # Remove longation\n",
        "    return araby.strip_tashkeel(text)\n",
        "\n"
      ]
    },
    {
      "cell_type": "code",
      "execution_count": null,
      "metadata": {
        "colab": {
          "base_uri": "https://localhost:8080/",
          "height": 36
        },
        "id": "clnKxFkrWRW7",
        "outputId": "1f1c3884-0f9d-41d4-87f6-ba4e6872461e"
      },
      "outputs": [
        {
          "data": {
            "application/vnd.google.colaboratory.intrinsic+json": {
              "type": "string"
            },
            "text/plain": [
              "'قالوا الموفق شيعي فقلت لهم'"
            ]
          },
          "execution_count": 15,
          "metadata": {},
          "output_type": "execute_result"
        }
      ],
      "source": [
        "text=\"قالوا الموفقُ شِيعِيٌّ فقلتُ لهم\"\n",
        "normalization(text)"
      ]
    },
    {
      "cell_type": "code",
      "execution_count": null,
      "metadata": {
        "colab": {
          "base_uri": "https://localhost:8080/"
        },
        "id": "rJD7ahlzWfOz",
        "outputId": "368684ec-6b23-42b4-a412-4b23abc6727c"
      },
      "outputs": [
        {
          "name": "stdout",
          "output_type": "stream",
          "text": [
            "ترضى اليهود والنصارى تتبع ملتهم الحمد لله يوجد يهود الجزائر وتربينا كرههم\n"
          ]
        }
      ],
      "source": [
        "test=df['Text'][5]\n",
        "print(test)"
      ]
    },
    {
      "cell_type": "code",
      "execution_count": null,
      "metadata": {
        "colab": {
          "base_uri": "https://localhost:8080/",
          "height": 36
        },
        "id": "6x2CstfsWqaO",
        "outputId": "27d15e5d-a629-498c-c8ad-9b9b37d08aba"
      },
      "outputs": [
        {
          "data": {
            "application/vnd.google.colaboratory.intrinsic+json": {
              "type": "string"
            },
            "text/plain": [
              "'ترضي اليهود والنصاري تتبع ملتهم الحمد لله يوجد يهود الجزاءر وتربينا كرههم'"
            ]
          },
          "execution_count": 17,
          "metadata": {},
          "output_type": "execute_result"
        }
      ],
      "source": [
        "normalization(test)"
      ]
    },
    {
      "cell_type": "markdown",
      "metadata": {
        "id": "CN1Dd0QzpYDg"
      },
      "source": [
        "# Machine Learning Part"
      ]
    },
    {
      "cell_type": "markdown",
      "metadata": {
        "id": "cGNnrfhZpto9"
      },
      "source": [
        "We will try a machine learning approach that will learn how to separate our dataset in three classes"
      ]
    },
    {
      "cell_type": "code",
      "execution_count": null,
      "metadata": {
        "colab": {
          "base_uri": "https://localhost:8080/"
        },
        "id": "DVvuIVd3pduu",
        "outputId": "5a70f619-bf6c-4d47-aa2e-8919c8995a96"
      },
      "outputs": [
        {
          "output_type": "execute_result",
          "data": {
            "text/plain": [
              "(6024,)"
            ]
          },
          "metadata": {},
          "execution_count": 14
        }
      ],
      "source": [
        "from sklearn.model_selection import train_test_split\n",
        "from sklearn.preprocessing import LabelEncoder\n",
        "X = df.Text.values\n",
        "y = df.Label.values\n",
        "y.shape\n"
      ]
    },
    {
      "cell_type": "markdown",
      "metadata": {
        "id": "6fHah63jpu7u"
      },
      "source": [
        "Split text and label into two groups training and test"
      ]
    },
    {
      "cell_type": "code",
      "execution_count": null,
      "metadata": {
        "id": "GsmjQEKbpp68"
      },
      "outputs": [],
      "source": [
        "X_train, X_test, y_train, y_test = train_test_split(X,y, test_size=0.3,shuffle=True, random_state=42)\n",
        "# Our vectorized labels\n",
        "y_train = np.asarray(y_train).astype('float32').reshape((-1,1))\n",
        "y_test = np.asarray(y_test).astype('float32').reshape((-1,1))"
      ]
    },
    {
      "cell_type": "markdown",
      "metadata": {
        "id": "KH1jdrKmp8Ul"
      },
      "source": [
        "Import the needed libraries"
      ]
    },
    {
      "cell_type": "code",
      "execution_count": null,
      "metadata": {
        "id": "vl_AdNXKp5N6"
      },
      "outputs": [],
      "source": [
        "from sklearn.metrics import classification_report\n",
        "from sklearn.feature_extraction.text import CountVectorizer\n",
        "from sklearn.feature_extraction.text import TfidfVectorizer\n",
        "from sklearn.pipeline import Pipeline\n",
        "from sklearn.metrics import f1_score"
      ]
    },
    {
      "cell_type": "markdown",
      "metadata": {
        "id": "Kp2ox4g7qrOk"
      },
      "source": [
        "Creating pipeline to treat data"
      ]
    },
    {
      "cell_type": "code",
      "execution_count": null,
      "metadata": {
        "id": "96z998UEqvf_"
      },
      "outputs": [],
      "source": [
        "def train_model(model, data, targets):\n",
        "    text_clf = Pipeline([\n",
        "    ('vect',TfidfVectorizer()),\n",
        "    ('clf', model),\n",
        "    ])\n",
        "    text_clf.fit(data, targets)\n",
        "    return text_clf"
      ]
    },
    {
      "cell_type": "markdown",
      "metadata": {
        "id": "fURNKECoq7eM"
      },
      "source": [
        "Implement accuracy method\n"
      ]
    },
    {
      "cell_type": "markdown",
      "metadata": {
        "id": "BhPXgAtUv3eQ"
      },
      "source": [
        "We use accuracy to measure the ability of the model to detect pattterns between data based on input and training set. It is a very important metrics used to know which model fits best our cases"
      ]
    },
    {
      "cell_type": "code",
      "execution_count": null,
      "metadata": {
        "id": "BTmwrmMnq7HQ"
      },
      "outputs": [],
      "source": [
        "def get_accuracy(trained_model,X, y):\n",
        "    predicted = trained_model.predict(X)\n",
        "    accuracy = np.mean(predicted == y)\n",
        "    return accuracy"
      ]
    },
    {
      "cell_type": "markdown",
      "metadata": {
        "id": "-QWbzHzJrFRg"
      },
      "source": [
        "Implement F1 score method\n"
      ]
    },
    {
      "cell_type": "markdown",
      "metadata": {
        "id": "Xg0Fc4CjxdZe"
      },
      "source": [
        "F1 score is metrics to measure accuracy of the predictions.\n",
        "it combines between Prediction and recall.\n",
        "Prediction: measure how many postive prediction where actually positive\n",
        "Recall: measure how many real positive where actually predicted positive"
      ]
    },
    {
      "cell_type": "code",
      "execution_count": null,
      "metadata": {
        "id": "X124fgnorB0q"
      },
      "outputs": [],
      "source": [
        "def get_F1(trained_model,X,y):\n",
        "    predicted=trained_model.predict(X)\n",
        "    f1=f1_score(y,predicted, average=None)\n",
        "    return f1"
      ]
    },
    {
      "cell_type": "markdown",
      "metadata": {
        "id": "pwAEBbAwzPlH"
      },
      "source": [
        "# F1 VS Accuracy\n",
        "\n",
        "Accuracy measures the performance of the model. F1-score gives better measurement to incorrect classification"
      ]
    },
    {
      "cell_type": "markdown",
      "metadata": {
        "id": "mjwjZkeEtSrc"
      },
      "source": [
        "# Classification Logistic Regression"
      ]
    },
    {
      "cell_type": "markdown",
      "metadata": {
        "id": "5RP6pqMStcUG"
      },
      "source": [
        "Since we are Detecting and classifying hate speeches through social medias. We will use a model widely used in classification as logistic regression.It will measure the correaltion between the text retrieved from internet and ou labels. Which is a predictive analysis algorithm based on probablity. Since we have three classification types as text are labelled as \"Hate\",\"Normal\",\"Abusive\". We will use a multi-linear logistic function."
      ]
    },
    {
      "cell_type": "code",
      "execution_count": null,
      "metadata": {
        "colab": {
          "base_uri": "https://localhost:8080/"
        },
        "id": "cIcUkm7brQ7b",
        "outputId": "546af58c-20dd-484e-c3c8-203779b7e369"
      },
      "outputs": [
        {
          "name": "stderr",
          "output_type": "stream",
          "text": [
            "/usr/local/lib/python3.8/dist-packages/sklearn/utils/validation.py:993: DataConversionWarning: A column-vector y was passed when a 1d array was expected. Please change the shape of y to (n_samples, ), for example using ravel().\n",
            "  y = column_or_1d(y, warn=True)\n"
          ]
        },
        {
          "name": "stdout",
          "output_type": "stream",
          "text": [
            "Test dataset accuracy with LogisticRegression: 0.59134\n",
            "Test dataset f1-score with LogisticRegression: [0.56784969 0.84424379]\n",
            "              precision    recall  f1-score   support\n",
            "\n",
            "         0.0       0.90      0.41      0.57       656\n",
            "         1.0       0.75      0.97      0.84      1152\n",
            "\n",
            "    accuracy                           0.77      1808\n",
            "   macro avg       0.82      0.69      0.71      1808\n",
            "weighted avg       0.80      0.77      0.74      1808\n",
            "\n"
          ]
        }
      ],
      "source": [
        "from sklearn.linear_model import LogisticRegression\n",
        "trained_clf_logistic_regressing = train_model(LogisticRegression(),X_train, y_train)\n",
        "y_pred=trained_clf_logistic_regressing.predict(X_test)\n",
        "accuracy_LR = get_accuracy(trained_clf_logistic_regressing,X_test, y_test)\n",
        "f1_Score_LR=get_F1(trained_clf_logistic_regressing,X_test,y_test)\n",
        "print(f\"Test dataset accuracy with LogisticRegression: {accuracy_LR:.5f}\")\n",
        "print(\"Test dataset f1-score with LogisticRegression:\",f1_Score_LR)\n",
        "print(classification_report(y_test, y_pred))"
      ]
    },
    {
      "cell_type": "markdown",
      "metadata": {
        "id": "32NhHoKH0Abq"
      },
      "source": [
        "Support is the number of class occurence in the dataset"
      ]
    },
    {
      "cell_type": "markdown",
      "metadata": {
        "id": "1xccf7KVsYIc"
      },
      "source": [
        "# Classification using K-nearest neighbor\n"
      ]
    },
    {
      "cell_type": "markdown",
      "metadata": {
        "id": "-QiFY4k80Fwt"
      },
      "source": []
    },
    {
      "cell_type": "code",
      "execution_count": null,
      "metadata": {
        "colab": {
          "base_uri": "https://localhost:8080/"
        },
        "id": "KRZxyOr0sdDZ",
        "outputId": "04b38d8a-eba8-4294-99e9-053e4d6ce881"
      },
      "outputs": [
        {
          "name": "stderr",
          "output_type": "stream",
          "text": [
            "/usr/local/lib/python3.8/dist-packages/sklearn/neighbors/_classification.py:198: DataConversionWarning: A column-vector y was passed when a 1d array was expected. Please change the shape of y to (n_samples,), for example using ravel().\n",
            "  return self._fit(X, y)\n"
          ]
        },
        {
          "name": "stdout",
          "output_type": "stream",
          "text": [
            "Test dataset accuracy with kNeighbor: 0.56343\n",
            "Test dataset f1-score with kNeighbor: [0.61120841 0.82053355]\n",
            "              precision    recall  f1-score   support\n",
            "\n",
            "         0.0       0.72      0.53      0.61       656\n",
            "         1.0       0.77      0.88      0.82      1152\n",
            "\n",
            "    accuracy                           0.75      1808\n",
            "   macro avg       0.74      0.71      0.72      1808\n",
            "weighted avg       0.75      0.75      0.74      1808\n",
            "\n"
          ]
        }
      ],
      "source": [
        "from sklearn.neighbors import KNeighborsClassifier\n",
        "trained_clf_kNeighbor = train_model(KNeighborsClassifier(),X_train, y_train)\n",
        "y_pred=trained_clf_kNeighbor.predict(X_test)\n",
        "accuracy_KN = get_accuracy(trained_clf_kNeighbor,X_test, y_test)\n",
        "f1_Score_KN=get_F1(trained_clf_kNeighbor,X_test,y_test)\n",
        "print(f\"Test dataset accuracy with kNeighbor: {accuracy_KN:.5f}\")\n",
        "print(\"Test dataset f1-score with kNeighbor:\",f1_Score_KN)\n",
        "print(classification_report(y_test, y_pred))"
      ]
    },
    {
      "cell_type": "markdown",
      "metadata": {
        "id": "834a0S2YZ31J"
      },
      "source": [
        "# Classification Using Decision Tree"
      ]
    },
    {
      "cell_type": "markdown",
      "metadata": {
        "id": "jzfCohMDZ1NN"
      },
      "source": [
        "The most powerful and widely used tool for classification and prediction is the Decision Tree. A Decision tree is a tree structure that appears like a flowchart, with each internal node representing a test on an attribute, each branch representing a test outcome, and each leaf node (terminal node) carrying a class label."
      ]
    },
    {
      "cell_type": "code",
      "execution_count": null,
      "metadata": {
        "colab": {
          "base_uri": "https://localhost:8080/"
        },
        "id": "JmTbROLBYrXf",
        "outputId": "46cb442f-696b-4f3e-f015-52e596cee988"
      },
      "outputs": [
        {
          "name": "stdout",
          "output_type": "stream",
          "text": [
            "Test dataset accuracy with DecisionTreeClassifier: 0.55356\n",
            "Test dataset f1-score with DecisionTreeClassifier: [0.62966031 0.81444583]\n",
            "              precision    recall  f1-score   support\n",
            "\n",
            "         0.0       0.69      0.58      0.63       656\n",
            "         1.0       0.78      0.85      0.81      1152\n",
            "\n",
            "    accuracy                           0.75      1808\n",
            "   macro avg       0.74      0.72      0.72      1808\n",
            "weighted avg       0.75      0.75      0.75      1808\n",
            "\n"
          ]
        }
      ],
      "source": [
        "from sklearn.tree import DecisionTreeClassifier\n",
        "trained_clf_decision_tree = train_model(DecisionTreeClassifier(),X_train, y_train)\n",
        "y_pred=trained_clf_decision_tree.predict(X_test)\n",
        "accuracy_DT = get_accuracy(trained_clf_decision_tree,X_test, y_test)\n",
        "f1_Score_DT=get_F1(trained_clf_decision_tree,X_test,y_test)\n",
        "print(f\"Test dataset accuracy with DecisionTreeClassifier: {accuracy_DT:.5f}\")\n",
        "print(\"Test dataset f1-score with DecisionTreeClassifier:\",f1_Score_DT)\n",
        "print(classification_report(y_test, y_pred))"
      ]
    },
    {
      "cell_type": "markdown",
      "metadata": {
        "id": "FzEb6vNtcVj7"
      },
      "source": [
        "# Classification Using Random Forest"
      ]
    },
    {
      "cell_type": "markdown",
      "metadata": {
        "id": "qHCnqFE7cblM"
      },
      "source": [
        "Random Forest is an ensemble technique that can handle both regression and classification tasks by combining many decision trees and a technique known as Bootstrap and Aggregation, or bagging. The core idea is to use numerous decision trees to determine the final output rather than depending on individual decision trees.\n",
        "Random Forest's foundation learning models are numerous decision trees. We randomly select rows and features from the dataset to create sample datasets for each model. This section is known as Bootstrap."
      ]
    },
    {
      "cell_type": "code",
      "execution_count": null,
      "metadata": {
        "colab": {
          "base_uri": "https://localhost:8080/"
        },
        "id": "7hxDannfbdje",
        "outputId": "445e5939-46a5-465b-eef5-8fcca9b58cce"
      },
      "outputs": [
        {
          "name": "stderr",
          "output_type": "stream",
          "text": [
            "/usr/local/lib/python3.8/dist-packages/sklearn/pipeline.py:394: DataConversionWarning: A column-vector y was passed when a 1d array was expected. Please change the shape of y to (n_samples,), for example using ravel().\n",
            "  self._final_estimator.fit(Xt, y, **fit_params_last_step)\n"
          ]
        },
        {
          "name": "stdout",
          "output_type": "stream",
          "text": [
            "Test dataset accuracy with RandomForestClassifier: 0.57936\n",
            "Test dataset f1-score with RandomForestClassifier: [0.6268081  0.84994184]\n",
            "              precision    recall  f1-score   support\n",
            "\n",
            "         0.0       0.85      0.50      0.63       656\n",
            "         1.0       0.77      0.95      0.85      1152\n",
            "\n",
            "    accuracy                           0.79      1808\n",
            "   macro avg       0.81      0.72      0.74      1808\n",
            "weighted avg       0.80      0.79      0.77      1808\n",
            "\n"
          ]
        }
      ],
      "source": [
        "from sklearn.ensemble import RandomForestClassifier\n",
        "trained_clf_random_forest = train_model(RandomForestClassifier(), X_train, y_train)\n",
        "y_pred=trained_clf_random_forest.predict(X_test)\n",
        "accuracy_RF = get_accuracy(trained_clf_random_forest,X_test, y_test)\n",
        "f1_Score_RF=get_F1(trained_clf_random_forest,X_test,y_test)\n",
        "print(f\"Test dataset accuracy with RandomForestClassifier: {accuracy_RF:.5f}\")\n",
        "print(\"Test dataset f1-score with RandomForestClassifier:\",f1_Score_RF)\n",
        "print(classification_report(y_test, y_pred))"
      ]
    },
    {
      "cell_type": "code",
      "execution_count": null,
      "metadata": {
        "colab": {
          "base_uri": "https://localhost:8080/",
          "height": 175
        },
        "id": "EiEDdfGac4EP",
        "outputId": "a90e2056-5ccf-4b1d-d968-5e727b4bb510"
      },
      "outputs": [
        {
          "data": {
            "text/html": [
              "\n",
              "  <div id=\"df-f7310229-e4fa-47e6-b763-801c8e6b39e8\">\n",
              "    <div class=\"colab-df-container\">\n",
              "      <div>\n",
              "<style scoped>\n",
              "    .dataframe tbody tr th:only-of-type {\n",
              "        vertical-align: middle;\n",
              "    }\n",
              "\n",
              "    .dataframe tbody tr th {\n",
              "        vertical-align: top;\n",
              "    }\n",
              "\n",
              "    .dataframe thead th {\n",
              "        text-align: right;\n",
              "    }\n",
              "</style>\n",
              "<table border=\"1\" class=\"dataframe\">\n",
              "  <thead>\n",
              "    <tr style=\"text-align: right;\">\n",
              "      <th></th>\n",
              "      <th>Model</th>\n",
              "      <th>Accuracy</th>\n",
              "      <th>F1 Score</th>\n",
              "    </tr>\n",
              "  </thead>\n",
              "  <tbody>\n",
              "    <tr>\n",
              "      <th>0</th>\n",
              "      <td>Logistic Regression</td>\n",
              "      <td>0.591344</td>\n",
              "      <td>[0.5678496868475991, 0.8442437923250565]</td>\n",
              "    </tr>\n",
              "    <tr>\n",
              "      <th>1</th>\n",
              "      <td>Random Forest</td>\n",
              "      <td>0.579357</td>\n",
              "      <td>[0.6296603148301575, 0.8144458281444583]</td>\n",
              "    </tr>\n",
              "    <tr>\n",
              "      <th>2</th>\n",
              "      <td>kNeighbours</td>\n",
              "      <td>0.563425</td>\n",
              "      <td>[0.626808100289296, 0.849941837921675]</td>\n",
              "    </tr>\n",
              "    <tr>\n",
              "      <th>3</th>\n",
              "      <td>Decision Tree</td>\n",
              "      <td>0.553562</td>\n",
              "      <td>[0.6112084063047285, 0.8205335489086499]</td>\n",
              "    </tr>\n",
              "  </tbody>\n",
              "</table>\n",
              "</div>\n",
              "      <button class=\"colab-df-convert\" onclick=\"convertToInteractive('df-f7310229-e4fa-47e6-b763-801c8e6b39e8')\"\n",
              "              title=\"Convert this dataframe to an interactive table.\"\n",
              "              style=\"display:none;\">\n",
              "        \n",
              "  <svg xmlns=\"http://www.w3.org/2000/svg\" height=\"24px\"viewBox=\"0 0 24 24\"\n",
              "       width=\"24px\">\n",
              "    <path d=\"M0 0h24v24H0V0z\" fill=\"none\"/>\n",
              "    <path d=\"M18.56 5.44l.94 2.06.94-2.06 2.06-.94-2.06-.94-.94-2.06-.94 2.06-2.06.94zm-11 1L8.5 8.5l.94-2.06 2.06-.94-2.06-.94L8.5 2.5l-.94 2.06-2.06.94zm10 10l.94 2.06.94-2.06 2.06-.94-2.06-.94-.94-2.06-.94 2.06-2.06.94z\"/><path d=\"M17.41 7.96l-1.37-1.37c-.4-.4-.92-.59-1.43-.59-.52 0-1.04.2-1.43.59L10.3 9.45l-7.72 7.72c-.78.78-.78 2.05 0 2.83L4 21.41c.39.39.9.59 1.41.59.51 0 1.02-.2 1.41-.59l7.78-7.78 2.81-2.81c.8-.78.8-2.07 0-2.86zM5.41 20L4 18.59l7.72-7.72 1.47 1.35L5.41 20z\"/>\n",
              "  </svg>\n",
              "      </button>\n",
              "      \n",
              "  <style>\n",
              "    .colab-df-container {\n",
              "      display:flex;\n",
              "      flex-wrap:wrap;\n",
              "      gap: 12px;\n",
              "    }\n",
              "\n",
              "    .colab-df-convert {\n",
              "      background-color: #E8F0FE;\n",
              "      border: none;\n",
              "      border-radius: 50%;\n",
              "      cursor: pointer;\n",
              "      display: none;\n",
              "      fill: #1967D2;\n",
              "      height: 32px;\n",
              "      padding: 0 0 0 0;\n",
              "      width: 32px;\n",
              "    }\n",
              "\n",
              "    .colab-df-convert:hover {\n",
              "      background-color: #E2EBFA;\n",
              "      box-shadow: 0px 1px 2px rgba(60, 64, 67, 0.3), 0px 1px 3px 1px rgba(60, 64, 67, 0.15);\n",
              "      fill: #174EA6;\n",
              "    }\n",
              "\n",
              "    [theme=dark] .colab-df-convert {\n",
              "      background-color: #3B4455;\n",
              "      fill: #D2E3FC;\n",
              "    }\n",
              "\n",
              "    [theme=dark] .colab-df-convert:hover {\n",
              "      background-color: #434B5C;\n",
              "      box-shadow: 0px 1px 3px 1px rgba(0, 0, 0, 0.15);\n",
              "      filter: drop-shadow(0px 1px 2px rgba(0, 0, 0, 0.3));\n",
              "      fill: #FFFFFF;\n",
              "    }\n",
              "  </style>\n",
              "\n",
              "      <script>\n",
              "        const buttonEl =\n",
              "          document.querySelector('#df-f7310229-e4fa-47e6-b763-801c8e6b39e8 button.colab-df-convert');\n",
              "        buttonEl.style.display =\n",
              "          google.colab.kernel.accessAllowed ? 'block' : 'none';\n",
              "\n",
              "        async function convertToInteractive(key) {\n",
              "          const element = document.querySelector('#df-f7310229-e4fa-47e6-b763-801c8e6b39e8');\n",
              "          const dataTable =\n",
              "            await google.colab.kernel.invokeFunction('convertToInteractive',\n",
              "                                                     [key], {});\n",
              "          if (!dataTable) return;\n",
              "\n",
              "          const docLinkHtml = 'Like what you see? Visit the ' +\n",
              "            '<a target=\"_blank\" href=https://colab.research.google.com/notebooks/data_table.ipynb>data table notebook</a>'\n",
              "            + ' to learn more about interactive tables.';\n",
              "          element.innerHTML = '';\n",
              "          dataTable['output_type'] = 'display_data';\n",
              "          await google.colab.output.renderOutput(dataTable, element);\n",
              "          const docLink = document.createElement('div');\n",
              "          docLink.innerHTML = docLinkHtml;\n",
              "          element.appendChild(docLink);\n",
              "        }\n",
              "      </script>\n",
              "    </div>\n",
              "  </div>\n",
              "  "
            ],
            "text/plain": [
              "                 Model  Accuracy                                  F1 Score\n",
              "0  Logistic Regression  0.591344  [0.5678496868475991, 0.8442437923250565]\n",
              "1        Random Forest  0.579357  [0.6296603148301575, 0.8144458281444583]\n",
              "2          kNeighbours  0.563425    [0.626808100289296, 0.849941837921675]\n",
              "3        Decision Tree  0.553562  [0.6112084063047285, 0.8205335489086499]"
            ]
          },
          "execution_count": 28,
          "metadata": {},
          "output_type": "execute_result"
        }
      ],
      "source": [
        "models = pd.DataFrame({\n",
        "    'Model': ['Logistic Regression','kNeighbours','Decision Tree','Random Forest'],\n",
        "    'Accuracy': [accuracy_LR,accuracy_KN,accuracy_DT,accuracy_RF],\n",
        "     'F1 Score':[f1_Score_LR, f1_Score_RF,f1_Score_KN,f1_Score_DT]})\n",
        "\n",
        "models.sort_values(by='Accuracy', ascending=False).reset_index().drop(['index'], axis=1)"
      ]
    },
    {
      "cell_type": "markdown",
      "metadata": {
        "id": "Q8VdVR2-rtxM"
      },
      "source": [
        "# Deep Learning Part\n"
      ]
    },
    {
      "cell_type": "markdown",
      "metadata": {
        "id": "CUr6B0OGr1KZ"
      },
      "source": [
        "Import the needed libraries\n"
      ]
    },
    {
      "cell_type": "code",
      "execution_count": null,
      "metadata": {
        "id": "TaT6yc6f1lVh"
      },
      "outputs": [],
      "source": [
        "import pandas as pd\n",
        "import numpy as np\n",
        "import matplotlib.pyplot as plt\n",
        "import seaborn as sns\n",
        "from sklearn.model_selection import train_test_split\n",
        "from sklearn.preprocessing import LabelEncoder\n",
        "from keras.models import Model\n",
        "from keras.layers import SimpleRNN, Activation, Dense, Dropout, Input, Embedding, LSTM\n",
        "from keras.optimizers import RMSprop\n",
        "from keras.preprocessing.text import Tokenizer\n",
        "from keras.preprocessing import sequence\n",
        "from keras.utils import to_categorical\n",
        "from keras.callbacks import EarlyStopping\n",
        "#from keras.utils import pad_sequences\n",
        "%matplotlib inline\n"
      ]
    },
    {
      "cell_type": "markdown",
      "metadata": {
        "id": "9yjEu7e_4Tdh"
      },
      "source": [
        "# Tokenize\n",
        "We tokenize the data by splitting test into words"
      ]
    },
    {
      "cell_type": "code",
      "execution_count": null,
      "metadata": {
        "id": "7WNyTj7jnaOn"
      },
      "outputs": [],
      "source": [
        "# prepare tokenizer\n",
        "t = Tokenizer()\n",
        "t.fit_on_texts(df[\"Text\"])\n",
        "vocab_size = len(t.word_index) + 1"
      ]
    },
    {
      "cell_type": "markdown",
      "metadata": {
        "id": "kR1bYTLe4gY6"
      },
      "source": [
        "Tranform text into sequence. which mean convert words into integers"
      ]
    },
    {
      "cell_type": "code",
      "execution_count": null,
      "metadata": {
        "id": "qkpY1epu4cdR"
      },
      "outputs": [],
      "source": [
        "list_tokenized_train=t.texts_to_sequences(X_train)\n",
        "list_tokenized_test=t.texts_to_sequences(X_test)"
      ]
    },
    {
      "cell_type": "markdown",
      "metadata": {
        "id": "0nBEteFZ4uAF"
      },
      "source": [
        "We pad the tokenized sequence"
      ]
    },
    {
      "cell_type": "code",
      "execution_count": null,
      "metadata": {
        "id": "r7BZ-7DE4pAm"
      },
      "outputs": [],
      "source": [
        "maxlen = 580\n",
        "X_t = pad_sequences(list_tokenized_train, maxlen=maxlen)\n",
        "X_te = pad_sequences(list_tokenized_test, maxlen=maxlen)"
      ]
    },
    {
      "cell_type": "markdown",
      "metadata": {
        "id": "SpyrNhQh430j"
      },
      "source": [
        "# Simple RNN Model\n",
        "# We design an RNN model wih 3 layers"
      ]
    },
    {
      "cell_type": "code",
      "execution_count": null,
      "metadata": {
        "id": "rYDZvhh64z5h"
      },
      "outputs": [],
      "source": [
        "from keras.layers import Bidirectional, GlobalMaxPool1D\n",
        "inp = Input(shape=(maxlen, ))\n",
        "embed_size = 100\n",
        "x = Embedding(vocab_size, embed_size)(inp)\n",
        "x = LSTM(100, return_sequences=True,name='lstm_layer')(x)\n",
        "x = GlobalMaxPool1D()(x)\n",
        "x = Dropout(0.1)(x)\n",
        "x = Dense(50, activation=\"relu\")(x)\n",
        "x = Dense(1, activation=\"sigmoid\")(x)"
      ]
    },
    {
      "cell_type": "markdown",
      "metadata": {
        "id": "kWRYBBp75Lxb"
      },
      "source": [
        "Compile the Model"
      ]
    },
    {
      "cell_type": "code",
      "execution_count": null,
      "metadata": {
        "colab": {
          "base_uri": "https://localhost:8080/"
        },
        "id": "c5WF9i1v5Ics",
        "outputId": "7e85c813-929b-4625-ffb0-cadac7a1ae52"
      },
      "outputs": [
        {
          "output_type": "stream",
          "name": "stdout",
          "text": [
            "Model: \"model\"\n",
            "_________________________________________________________________\n",
            " Layer (type)                Output Shape              Param #   \n",
            "=================================================================\n",
            " input_1 (InputLayer)        [(None, 580)]             0         \n",
            "                                                                 \n",
            " embedding (Embedding)       (None, 580, 100)          2717200   \n",
            "                                                                 \n",
            " lstm_layer (LSTM)           (None, 580, 100)          80400     \n",
            "                                                                 \n",
            " global_max_pooling1d (Globa  (None, 100)              0         \n",
            " lMaxPooling1D)                                                  \n",
            "                                                                 \n",
            " dropout (Dropout)           (None, 100)               0         \n",
            "                                                                 \n",
            " dense (Dense)               (None, 50)                5050      \n",
            "                                                                 \n",
            " dense_1 (Dense)             (None, 1)                 51        \n",
            "                                                                 \n",
            "=================================================================\n",
            "Total params: 2,802,701\n",
            "Trainable params: 2,802,701\n",
            "Non-trainable params: 0\n",
            "_________________________________________________________________\n",
            "None\n"
          ]
        }
      ],
      "source": [
        "model = Model(inputs=inp, outputs=x)\n",
        "model.compile(loss='binary_crossentropy',optimizer='adam',metrics=['accuracy'])\n",
        "print(model.summary())"
      ]
    },
    {
      "cell_type": "markdown",
      "metadata": {
        "id": "UdGhE_vq5ST8"
      },
      "source": [
        "Train the model"
      ]
    },
    {
      "cell_type": "code",
      "execution_count": null,
      "metadata": {
        "colab": {
          "base_uri": "https://localhost:8080/"
        },
        "id": "JRpQHn8i5PKn",
        "outputId": "fdf908fc-2f64-428c-89fa-d509bd726ba1"
      },
      "outputs": [
        {
          "name": "stdout",
          "output_type": "stream",
          "text": [
            "119/119 [==============================] - 69s 560ms/step - loss: 0.6611 - accuracy: 0.6265 - val_loss: 0.6075 - val_accuracy: 0.6967\n"
          ]
        },
        {
          "data": {
            "text/plain": [
              "<keras.callbacks.History at 0x7f0173d71b80>"
            ]
          },
          "execution_count": 35,
          "metadata": {},
          "output_type": "execute_result"
        }
      ],
      "source": [
        "model.fit(X_t,y_train, batch_size=32, epochs=10, validation_split=0.1)"
      ]
    },
    {
      "cell_type": "markdown",
      "metadata": {
        "id": "kxRg3DtM5b_5"
      },
      "source": [
        "Model Evalutation"
      ]
    },
    {
      "cell_type": "code",
      "execution_count": null,
      "metadata": {
        "colab": {
          "base_uri": "https://localhost:8080/"
        },
        "id": "KAxLa2Bz5ezt",
        "outputId": "215cdc6a-9b1e-4d7f-aa2c-5f20961837ac"
      },
      "outputs": [
        {
          "name": "stdout",
          "output_type": "stream",
          "text": [
            "acc: 0.65763\n",
            "Loss: 0.622781\n"
          ]
        }
      ],
      "source": [
        "loss,acc = model.evaluate(X_te,y_test, verbose = 0, batch_size = 32)\n",
        "print(\"acc: %.5f\" % (acc))"
      ]
    },
    {
      "cell_type": "markdown",
      "metadata": {
        "id": "IZ6JsFNH5yXY"
      },
      "source": [
        "# RNN Model Using ARAVEC word embedding model"
      ]
    },
    {
      "cell_type": "markdown",
      "metadata": {
        "id": "dQkrYiuJ54jZ"
      },
      "source": [
        "Install gensim which is one of the fastest libraries to train word embedding"
      ]
    },
    {
      "cell_type": "code",
      "execution_count": null,
      "metadata": {
        "colab": {
          "base_uri": "https://localhost:8080/"
        },
        "id": "t4N8_tUVnjdK",
        "outputId": "8634ca0f-b51d-44e6-9792-6284ddd70e59"
      },
      "outputs": [
        {
          "name": "stdout",
          "output_type": "stream",
          "text": [
            "Looking in indexes: https://pypi.org/simple, https://us-python.pkg.dev/colab-wheels/public/simple/\n",
            "Requirement already satisfied: gensim in /usr/local/lib/python3.8/dist-packages (4.2.0)\n",
            "Requirement already satisfied: scipy>=0.18.1 in /usr/local/lib/python3.8/dist-packages (from gensim) (1.7.3)\n",
            "Requirement already satisfied: smart-open>=1.8.1 in /usr/local/lib/python3.8/dist-packages (from gensim) (5.2.1)\n",
            "Requirement already satisfied: numpy>=1.17.0 in /usr/local/lib/python3.8/dist-packages (from gensim) (1.21.6)\n"
          ]
        }
      ],
      "source": [
        "pip install gensim"
      ]
    },
    {
      "cell_type": "markdown",
      "metadata": {
        "id": "VSXEVWbs6D35"
      },
      "source": [
        "Download the embedded file full ini twitter of dimension 300"
      ]
    },
    {
      "cell_type": "code",
      "execution_count": null,
      "metadata": {
        "colab": {
          "background_save": true,
          "base_uri": "https://localhost:8080/"
        },
        "id": "CQbgqQRVoomR",
        "outputId": "ccb2b633-7306-4a78-f72d-0f6cebba566e"
      },
      "outputs": [
        {
          "name": "stdout",
          "output_type": "stream",
          "text": [
            "Cannot open cookies file ‘/tmp/cookies.txt’: No such file or directory\n",
            "--2022-12-08 21:53:44--  https://bakrianoo.ewr1.vultrobjects.com/aravec/full_uni_cbow_300_twitter.zip\n",
            "Resolving bakrianoo.ewr1.vultrobjects.com (bakrianoo.ewr1.vultrobjects.com)... 108.61.0.122, 2001:19f0:0:22::100\n",
            "Connecting to bakrianoo.ewr1.vultrobjects.com (bakrianoo.ewr1.vultrobjects.com)|108.61.0.122|:443... connected.\n",
            "HTTP request sent, awaiting response... 200 OK\n",
            "Length: 2833686412 (2.6G) [application/zip]\n",
            "Saving to: ‘full_uni_cbow_300_twitter.zip’\n",
            "\n",
            "full_uni_cbow_300_t 100%[===================>]   2.64G  34.5MB/s    in 85s     \n",
            "\n",
            "2022-12-08 21:55:09 (31.9 MB/s) - ‘full_uni_cbow_300_twitter.zip’ saved [2833686412/2833686412]\n",
            "\n",
            "Archive:  full_uni_cbow_300_twitter.zip\n",
            "replace full_uni_cbow_300_twitter.mdl? [y]es, [n]o, [A]ll, [N]one, [r]ename: "
          ]
        }
      ],
      "source": [
        "!wget --load-cookies /tmp/cookies.txt \"https://bakrianoo.ewr1.vultrobjects.com/aravec/full_uni_cbow_300_twitter.zip\" -O full_uni_cbow_300_twitter.zip && rm -rf /tmp/cookies.txt\n",
        "!unzip full_uni_cbow_300_twitter.zip"
      ]
    },
    {
      "cell_type": "markdown",
      "metadata": {
        "id": "dz5ikXi_6O6V"
      },
      "source": [
        "Load the Embedding file"
      ]
    },
    {
      "cell_type": "code",
      "execution_count": null,
      "metadata": {
        "id": "63O2Bulirb_y"
      },
      "outputs": [],
      "source": [
        "w2v_embeddings_index={}\n",
        "TOTAL_EMBEDDING_DIM=300\n",
        "embeddings_file='/content/full_uni_cbow_300_twitter.mdl'\n",
        "w2v_model =KeyedVectors.load(embeddings_file)"
      ]
    },
    {
      "cell_type": "markdown",
      "metadata": {
        "id": "vCyM1tr46Rhn"
      },
      "source": [
        "Load the model"
      ]
    },
    {
      "cell_type": "code",
      "execution_count": null,
      "metadata": {
        "id": "rZuPfgvyrzOK"
      },
      "outputs": [],
      "source": [
        "words = list(w2v_model.wv.index_to_key)"
      ]
    },
    {
      "cell_type": "markdown",
      "metadata": {
        "id": "U6QeYOrP6V31"
      },
      "source": [
        "Load embedded vector"
      ]
    },
    {
      "cell_type": "code",
      "execution_count": null,
      "metadata": {
        "id": "3iWkMa-3r2DZ"
      },
      "outputs": [],
      "source": [
        "w2v_embeddings_index={}\n",
        "for key in words:\n",
        "    w2v_embeddings_index[key] =w2v_model.wv.get_vector(key)"
      ]
    },
    {
      "cell_type": "markdown",
      "metadata": {
        "id": "eHtsKNaW6ZUY"
      },
      "source": [
        "Display vector length"
      ]
    },
    {
      "cell_type": "code",
      "execution_count": null,
      "metadata": {
        "id": "VhiuT_zwr4N-"
      },
      "outputs": [],
      "source": [
        "print(\"Loaded %s word vectors.\"% len(w2v_embeddings_index))"
      ]
    },
    {
      "cell_type": "markdown",
      "metadata": {
        "id": "F0LQS2YT6eR6"
      },
      "source": [
        "Create Embedding Matric"
      ]
    },
    {
      "cell_type": "code",
      "execution_count": null,
      "metadata": {
        "id": "Ol7wGH1wr8IZ"
      },
      "outputs": [],
      "source": [
        "embedding_matrix = np.zeros((vocab_size, TOTAL_EMBEDDING_DIM))\n",
        "for word, i in t.word_index.items():\n",
        "    embedding_vector = w2v_embeddings_index.get(word)\n",
        "    if embedding_vector is not None:\n",
        "        embedding_matrix[i] = embedding_vector"
      ]
    },
    {
      "cell_type": "markdown",
      "metadata": {
        "id": "DZXA9Msk6hYX"
      },
      "source": [
        "Display Embedded Matrix Shape"
      ]
    },
    {
      "cell_type": "code",
      "execution_count": null,
      "metadata": {
        "id": "TsMc4J78sBbU"
      },
      "outputs": [],
      "source": [
        "print(\"Embedding Matrix shape:\", embedding_matrix.shape)"
      ]
    },
    {
      "cell_type": "markdown",
      "metadata": {
        "id": "6CVbeoAp6m6Z"
      },
      "source": [
        "Load embedding layer using keras library"
      ]
    },
    {
      "cell_type": "code",
      "execution_count": null,
      "metadata": {
        "id": "OcppJc9IsDGZ"
      },
      "outputs": [],
      "source": [
        "embedding_layer = tf.keras.layers.Embedding(vocab_size, TOTAL_EMBEDDING_DIM, weights=[embedding_matrix], input_length=maxlen, trainable=False)"
      ]
    },
    {
      "cell_type": "markdown",
      "metadata": {
        "id": "K9RhEgLJ6qc_"
      },
      "source": [
        "Design RNN aravec model"
      ]
    },
    {
      "cell_type": "code",
      "execution_count": null,
      "metadata": {
        "id": "sHgGNvf-sHq2"
      },
      "outputs": [],
      "source": [
        "input_placeholder= Input(shape=(maxlen,))\n",
        "input_embedding = embedding_layer(input_placeholder)\n",
        "lstm= LSTM(100, return_sequences=True,name='lstm_layer_2')(input_embedding)\n",
        "y = GlobalMaxPool1D()(lstm)\n",
        "y = Dense(50, activation=\"relu\")(lstm)\n",
        "y = Dropout(0.1)(y)\n",
        "preds = Dense(1, activation='sigmoid', name = 'activation')(y)\n",
        "modelaravec = Model(inputs=input_placeholder, outputs=preds)"
      ]
    },
    {
      "cell_type": "markdown",
      "metadata": {
        "id": "3yvPbxpp64gH"
      },
      "source": [
        "LOad the Model"
      ]
    },
    {
      "cell_type": "code",
      "execution_count": null,
      "metadata": {
        "id": "-nuiUKvzsKzL"
      },
      "outputs": [],
      "source": [
        "modelaravec.compile(loss='binary_crossentropy', optimizer='adam', metrics=['accuracy'])"
      ]
    },
    {
      "cell_type": "markdown",
      "metadata": {
        "id": "20shl4R166al"
      },
      "source": [
        "Summarize the model"
      ]
    },
    {
      "cell_type": "code",
      "execution_count": null,
      "metadata": {
        "id": "4vMevQGhskQg"
      },
      "outputs": [],
      "source": [
        "print(modelaravec.summary())"
      ]
    },
    {
      "cell_type": "markdown",
      "metadata": {
        "id": "h-Fr8ItH7Ag9"
      },
      "source": [
        "Train the RNN and aravec model"
      ]
    },
    {
      "cell_type": "code",
      "execution_count": null,
      "metadata": {
        "id": "CpgZgJZVsT1k"
      },
      "outputs": [],
      "source": [
        "modelaravec.fit(X_t,y_train, batch_size=32, epochs=10, validation_split=0.2)"
      ]
    },
    {
      "cell_type": "code",
      "execution_count": null,
      "metadata": {
        "id": "GxOlTdtTKHsO"
      },
      "outputs": [],
      "source": [
        "loss,accuracy = modelaravec.evaluate(X_te,y_test,verbose=0)\n",
        "print(\"Accuracy: %5f\" % (accuracy))\n",
        "print(\"Loss: %5f\"% (loss))\n"
      ]
    },
    {
      "cell_type": "markdown",
      "metadata": {
        "id": "g3UviAKn7Iod"
      },
      "source": [
        "# Transformers Part"
      ]
    },
    {
      "cell_type": "markdown",
      "metadata": {
        "id": "XCerYhCU7VUW"
      },
      "source": [
        "Load transformer"
      ]
    },
    {
      "cell_type": "code",
      "execution_count": null,
      "metadata": {
        "id": "CugCcFew7NtA"
      },
      "outputs": [],
      "source": [
        "!pip install transformers"
      ]
    },
    {
      "cell_type": "markdown",
      "metadata": {
        "id": "oAZbxs8g7b8b"
      },
      "source": [
        "Load the pretrained arabert transformer"
      ]
    },
    {
      "cell_type": "code",
      "execution_count": null,
      "metadata": {
        "id": "x0u6UkFx7XfJ"
      },
      "outputs": [],
      "source": [
        "from transformers import AutoTokenizer, TFAutoModelForSequenceClassification\n",
        "\n",
        "tokenizer = AutoTokenizer.from_pretrained(\"asafaya/bert-base-arabic\")\n",
        "arabic_bert = TFAutoModelForSequenceClassification.from_pretrained(\"asafaya/bert-base-arabic\")\n"
      ]
    },
    {
      "cell_type": "markdown",
      "metadata": {
        "id": "EQ7G-MHe7tqT"
      },
      "source": [
        "We convert our data to format accepted by transformer. We tokenize the data and pad them"
      ]
    },
    {
      "cell_type": "code",
      "execution_count": null,
      "metadata": {
        "id": "i9qnRbob7tH2"
      },
      "outputs": [],
      "source": [
        "def convert_text_to_feature(text):\n",
        "  return tokenizer.encode_plus(text,\n",
        "                add_special_tokens = True, # add [CLS], [SEP]\n",
        "                max_length = max_length, # max length of the text that can go to BERT\n",
        "                pad_to_max_length = True, # add [PAD] tokens\n",
        "                return_attention_mask = True, # add attention mask to not focus on pad tokens\n",
        "              )\n",
        "max_length = 150\n",
        "batch_size = 32"
      ]
    },
    {
      "cell_type": "markdown",
      "metadata": {
        "id": "vh4HGu7j8GaH"
      },
      "source": [
        "We continue transforming raw data to format acceptable by arabert\n"
      ]
    },
    {
      "cell_type": "code",
      "execution_count": null,
      "metadata": {
        "id": "sAkEIT2y76_z"
      },
      "outputs": [],
      "source": [
        "def map_example_to_dict(input_ids, attention_masks, token_type_ids, label):\n",
        "  return {\n",
        "      \"input_ids\": input_ids,\n",
        "      \"token_type_ids\": token_type_ids,\n",
        "      \"attention_mask\": attention_masks,\n",
        "  }, label\n",
        "def encode_examples(data,label,limit=-1):\n",
        "  # prepare list, so that we can build up final TensorFlow dataset from slices.\n",
        "  input_ids_list = []\n",
        "  token_type_ids_list = []\n",
        "  attention_mask_list = []\n",
        "  label_list = []\n",
        "  for i in range(len(data)):\n",
        "    bert_input = convert_text_to_feature(data[i])\n",
        "    input_ids_list.append(bert_input['input_ids'])\n",
        "    token_type_ids_list.append(bert_input['token_type_ids'])\n",
        "    attention_mask_list.append(bert_input['attention_mask'])\n",
        "    label_list.append([label[i]])\n",
        "  return tf.data.Dataset.from_tensor_slices((input_ids_list, attention_mask_list, token_type_ids_list, label_list)).map(map_example_to_dict)"
      ]
    },
    {
      "cell_type": "markdown",
      "metadata": {
        "id": "4Vzpd-Hi8SaR"
      },
      "source": [
        "# Tip\n",
        "Since we are working with tranfromers we will encode the data then decode them ![encoder decoder NLP architecture.png](data:image/png;base64,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)"
      ]
    },
    {
      "cell_type": "markdown",
      "metadata": {
        "id": "gZ99nsQr9AqY"
      },
      "source": [
        "# Encode the dataset"
      ]
    },
    {
      "cell_type": "code",
      "execution_count": null,
      "metadata": {
        "id": "VdDfc__t8OJK"
      },
      "outputs": [],
      "source": [
        "\n",
        "ds_train_encoded = encode_examples(X_train,y_train).shuffle(1000).batch(batch_size)\n",
        "\n",
        "ds_test_encoded = encode_examples(X_test,y_test).batch(batch_size)"
      ]
    },
    {
      "cell_type": "markdown",
      "metadata": {
        "id": "7fH6QetD8-mV"
      },
      "source": [
        "We choose the hyperparameters of our transformer model"
      ]
    },
    {
      "cell_type": "code",
      "execution_count": null,
      "metadata": {
        "id": "kyAIL7QN9KjU"
      },
      "outputs": [],
      "source": [
        "\n",
        "learning_rate = 2e-5\n",
        "\n",
        "number_of_epochs = 1\n",
        "\n",
        "model=arabic_bert\n",
        "# choosing Adam optimizer\n",
        "optimizer = tf.keras.optimizers.Adam(learning_rate=learning_rate, epsilon=1e-08)\n",
        "\n",
        "loss = tf.keras.losses.SparseCategoricalCrossentropy(from_logits=True)\n",
        "metric = tf.keras.metrics.SparseCategoricalAccuracy('accuracy')\n",
        "model.compile(optimizer=optimizer, loss=loss, metrics=[metric])"
      ]
    },
    {
      "cell_type": "markdown",
      "metadata": {
        "id": "nHKZou8f9ZjV"
      },
      "source": [
        "Train and Evaluate the model"
      ]
    },
    {
      "cell_type": "code",
      "execution_count": null,
      "metadata": {
        "id": "ASrHmv8M9WhT"
      },
      "outputs": [],
      "source": [
        "bert_history = model.fit(ds_train_encoded, epochs=number_of_epochs, validation_data=ds_test_encoded)\n",
        "loss,accuracy = bert_history.evaluate(ds_train_encoded,y_test,verbose=0)\n",
        "print(\"Accuracy: %5f\" % (accuracy))"
      ]
    }
  ],
  "metadata": {
    "colab": {
      "collapsed_sections": [
        "pwAEBbAwzPlH"
      ],
      "provenance": []
    },
    "kernelspec": {
      "display_name": "Python 3",
      "name": "python3"
    },
    "language_info": {
      "name": "python"
    }
  },
  "nbformat": 4,
  "nbformat_minor": 0
}